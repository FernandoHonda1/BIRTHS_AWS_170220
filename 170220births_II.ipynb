{
 "cells": [
  {
   "cell_type": "code",
   "execution_count": 2,
   "metadata": {},
   "outputs": [],
   "source": [
    "import pandas as pd\n",
    "import psycopg2\n",
    "#from psycopg2.extensions import ISOLATION_LEVEL_AUTOCOMMIT\n",
    "from flask import Flask, request\n",
    "import matplotlib.pyplot as plt"
   ]
  },
  {
   "cell_type": "code",
   "execution_count": 2,
   "metadata": {},
   "outputs": [],
   "source": [
    " # TRATAMENTO DO CSV\n",
    "\n",
    "#df = pd.read_csv('births.csv')\n",
    "\n",
    "#for i in df.columns:\n",
    "#    print(i, df[i].unique())\n",
    "\n",
    "## checando coluna 'births'\n",
    "\n",
    "#df['births'] = df['births'].astype(str)\n",
    "#df.loc[df['births'].str.isdigit() == False]\n",
    "\n",
    "# eliminando linhas que contivessem '99.' ou 'nan' como valores de 'day'\n",
    "\n",
    "#df['day'] = df['day'].astype(str)\n",
    "#df = df.drop(df.loc[(df['day'].str.contains('nan')) | (df['day'].str.contains('99.'))].index.tolist())\n",
    "\n",
    "#df"
   ]
  },
  {
   "cell_type": "code",
   "execution_count": 3,
   "metadata": {},
   "outputs": [
    {
     "name": "stdout",
     "output_type": "stream",
     "text": [
      "{'user': 'postgres', 'dbname': 'postgres', 'host': 'database-1.cth04qnbqozs.us-east-2.rds.amazonaws.com', 'port': '5432', 'tty': '', 'options': '', 'sslmode': 'prefer', 'sslcompression': '0', 'krbsrvname': 'postgres', 'target_session_attrs': 'any'} \n",
      "\n",
      "You are connected to ('PostgreSQL 11.5 on x86_64-pc-linux-gnu, compiled by gcc (GCC) 4.8.3 20140911 (Red Hat 4.8.3-9), 64-bit',) \n",
      "\n"
     ]
    }
   ],
   "source": [
    "#  CONEXÃO COM POSTGRES\n",
    "\n",
    "connection = psycopg2.connect(host = 'database-1.cth04qnbqozs.us-east-2.rds.amazonaws.com', user = 'postgres',\n",
    "                       password = 'postgres', port = '5432')\n",
    "\n",
    "cursor = connection.cursor()\n",
    "print(connection.get_dsn_parameters(), \"\\n\")\n",
    "\n",
    "cursor.execute('SELECT version();')\n",
    "record = cursor.fetchone()\n",
    "print('You are connected to', record, '\\n')"
   ]
  },
  {
   "cell_type": "code",
   "execution_count": 12,
   "metadata": {},
   "outputs": [],
   "source": [
    "# CRIANDO BASE DE DADOS E TABELA\n",
    "\n",
    "#con.set_isolation_level(ISOLATION_LEVEL_AUTOCOMMIT)\n",
    "#try:\n",
    "#    name_Database = 'handbook'\n",
    "#    sqlCreateDatabase = 'CREATE DATABASE ' + name_Database + ';'\n",
    "#    cursor.execute(sqlCreateDatabase) \n",
    "#except:\n",
    "#    print('already there')\n",
    "    \n",
    "#try:\n",
    "#    sql = 'CREATE TABLE births_1802 (year VARCHAR, month VARCHAR, day VARCHAR, gender VARCHAR, births VARCHAR)'\n",
    "#    cursor.execute(sql)\n",
    "#except:\n",
    "#    print('already there')"
   ]
  },
  {
   "cell_type": "code",
   "execution_count": 10,
   "metadata": {},
   "outputs": [],
   "source": [
    "# INSERT DAS LINHAS DO DATAFRAME NA BASE\n",
    "\n",
    "#y = df['year'].tolist()\n",
    "#m = df['month'].tolist()\n",
    "#d = df['day'].tolist()\n",
    "#g = df['gender'].tolist()\n",
    "#b = df['births'].tolist()\n",
    "\n",
    "#inserts = []\n",
    "\n",
    "#for i in range(0, len(y)):\n",
    "#    inserts.append(\"('{0}', '{1}', '{2}', '{3}', '{4}')\".format(y[i], m[i], d[i], g[i], b[i]))\n",
    "    \n",
    "#for i in inserts:\n",
    "#    cursor.execute(\"INSERT INTO births_1802 VALUES {}\".format(i))"
   ]
  },
  {
   "cell_type": "code",
   "execution_count": 13,
   "metadata": {},
   "outputs": [],
   "source": [
    "# VERIFICANDO SE OS DADOS TINHAM SIDO ENVIADOS PARA A BASE\n",
    "\n",
    "#cursor.execute('SELECT * FROM births_1802')\n",
    "#recset = cursor.fetchall()\n",
    "#len(recset)"
   ]
  },
  {
   "cell_type": "code",
   "execution_count": 10,
   "metadata": {},
   "outputs": [
    {
     "name": "stdout",
     "output_type": "stream",
     "text": [
      " * Serving Flask app \"__main__\" (lazy loading)\n",
      " * Environment: production\n",
      "   WARNING: This is a development server. Do not use it in a production deployment.\n",
      "   Use a production WSGI server instead.\n",
      " * Debug mode: off\n"
     ]
    },
    {
     "name": "stderr",
     "output_type": "stream",
     "text": [
      " * Running on http://127.0.0.1:5000/ (Press CTRL+C to quit)\n"
     ]
    },
    {
     "data": {
      "image/png": "[encoded data removed]",
      "text/plain": [
       "<Figure size 432x288 with 1 Axes>"
      ]
     },
     "metadata": {
      "needs_background": "light"
     },
     "output_type": "display_data"
    },
    {
     "name": "stderr",
     "output_type": "stream",
     "text": [
      "127.0.0.1 - - [18/Feb/2020 16:58:06] \"GET /year HTTP/1.1\" 200 -\n"
     ]
    }
   ],
   "source": [
    "# Endpoint de get que retorne o ano em que nasceram mais pessoas e faça o gráfico de barras em que o eixo x \n",
    "# são os meses e o eixo y é a quatidade de pessoas daquele mês; \n",
    "\n",
    "# pelo postman, o eixo x tem seus valores ordenados, de acordo com os do eixo y\n",
    "\n",
    "# ao fazer com que o retorno seja o ano com maior número de nascimentos, o 'output' no jupyter sai diferente\n",
    "\n",
    "app = Flask(__name__)\n",
    "@app.route(\"/year\", methods = ['GET'])\n",
    "\n",
    "def yr_mst_brths():\n",
    "    \n",
    "    sql = \"SELECT * FROM births_1802\"\n",
    "    df = pd.read_sql(sql, connection)\n",
    "    df['births'] = df['births'].astype(int)\n",
    "    x = df.groupby('year').sum().sort_values('births', ascending = False).index.tolist()[0]\n",
    "    \n",
    "    plt.bar(df.loc[df['year'] == x].groupby('month').sum()['births'].index, \n",
    "        df.loc[df['year'] == x].groupby('month').sum()['births'])\n",
    "    plt.show()\n",
    "    \n",
    "    return x, 200\n",
    "\n",
    "app.run()"
   ]
  },
  {
   "cell_type": "code",
   "execution_count": 12,
   "metadata": {},
   "outputs": [
    {
     "name": "stdout",
     "output_type": "stream",
     "text": [
      " * Serving Flask app \"__main__\" (lazy loading)\n",
      " * Environment: production\n",
      "   WARNING: This is a development server. Do not use it in a production deployment.\n",
      "   Use a production WSGI server instead.\n",
      " * Debug mode: off\n"
     ]
    },
    {
     "name": "stderr",
     "output_type": "stream",
     "text": [
      " * Running on http://127.0.0.1:5000/ (Press CTRL+C to quit)\n"
     ]
    },
    {
     "data": {
      "image/png": "[encoded data removed]",
      "text/plain": [
       "<Figure size 432x288 with 1 Axes>"
      ]
     },
     "metadata": {
      "needs_background": "light"
     },
     "output_type": "display_data"
    },
    {
     "name": "stderr",
     "output_type": "stream",
     "text": [
      "127.0.0.1 - - [18/Feb/2020 16:45:17] \"GET /female_month HTTP/1.1\" 200 -\n"
     ]
    }
   ],
   "source": [
    "# Endpoint de get que retorne o mês em que nasceram mais mulheres e faça o gráfico de linha em que o eixo x \n",
    "# é a quantidade de mulheres e o eixo y os dias do mês; \n",
    "\n",
    "app = Flask(__name__)\n",
    "@app.route(\"/female_month\", methods = ['GET'])\n",
    "\n",
    "def mnth_mst_fml_brths():\n",
    "    \n",
    "    sql = \"SELECT * FROM births_1802 WHERE gender = 'F'\"\n",
    "    df_f = pd.read_sql(sql, connection)\n",
    "    df_f['births'] = df_f['births'].astype(int)\n",
    "\n",
    "    plt.plot(df_f.loc[df_f['month'] == df_f.groupby('month').sum().sort_values('births', ascending =\n",
    "                                        False).index.tolist()[0]].groupby('day').sum().index,\n",
    "       df_f.loc[df_f['month'] == df_f.groupby('month').sum().sort_values('births', ascending =\n",
    "                                    False).index.tolist()[0]].groupby('day').sum()['births'])\n",
    "    \n",
    "    plt.show()\n",
    "    \n",
    "    return 'sucesso', 200\n",
    "\n",
    "app.run()"
   ]
  },
  {
   "cell_type": "code",
   "execution_count": 14,
   "metadata": {},
   "outputs": [
    {
     "name": "stdout",
     "output_type": "stream",
     "text": [
      " * Serving Flask app \"__main__\" (lazy loading)\n",
      " * Environment: production\n",
      "   WARNING: This is a development server. Do not use it in a production deployment.\n",
      "   Use a production WSGI server instead.\n",
      " * Debug mode: off\n"
     ]
    },
    {
     "name": "stderr",
     "output_type": "stream",
     "text": [
      " * Running on http://127.0.0.1:5000/ (Press CTRL+C to quit)\n"
     ]
    },
    {
     "data": {
      "image/png": "[encoded data removed]",
      "text/plain": [
       "<Figure size 432x288 with 1 Axes>"
      ]
     },
     "metadata": {
      "needs_background": "light"
     },
     "output_type": "display_data"
    },
    {
     "name": "stderr",
     "output_type": "stream",
     "text": [
      "127.0.0.1 - - [18/Feb/2020 16:46:37] \"GET /male_month/2 HTTP/1.1\" 200 -\n"
     ]
    },
    {
     "data": {
      "image/png": "[encoded data removed]",
      "text/plain": [
       "<Figure size 432x288 with 1 Axes>"
      ]
     },
     "metadata": {
      "needs_background": "light"
     },
     "output_type": "display_data"
    },
    {
     "name": "stderr",
     "output_type": "stream",
     "text": [
      "127.0.0.1 - - [18/Feb/2020 16:46:54] \"GET /male_month/10 HTTP/1.1\" 200 -\n"
     ]
    }
   ],
   "source": [
    "# Endpoint de get que passe o mês e retorne a quantidade de homens que nasceram nesse mês e faça o histograma \n",
    "# em que o eixo x é a quandidade de homens que nasceu em cada dia; \n",
    "\n",
    "app = Flask(__name__)\n",
    "@app.route(\"/male_month/<month>\", methods = ['GET'])\n",
    "\n",
    "def male_month(month):\n",
    "    sql = \"SELECT * FROM births_1802 WHERE gender = 'M'\"\n",
    "    df_m = pd.read_sql(sql, connection)\n",
    "    df_m['births'] = df_m['births'].astype(int)\n",
    "    df_m_r = df_m.loc[df_m['month'] == month].groupby('day').sum()\n",
    "    plt.bar(df_m_r.index,df_m_r['births'])\n",
    "    plt.show()\n",
    "    return 'sucesso', 200\n",
    "\n",
    "app.run()"
   ]
  },
  {
   "cell_type": "code",
   "execution_count": 112,
   "metadata": {},
   "outputs": [],
   "source": [
    "\n",
    "### RASCUNHOS\n",
    "\n",
    "#x = df.groupby('year').sum().sort_values('births', ascending = False).index.tolist()[0]\n",
    "#plt.bar(df.loc[df['year'] == x].groupby('month').sum()['births'].index, \n",
    "#    df.loc[df['year'] == x].groupby('month').sum()['births'])\n",
    "#plt.show()\n",
    "\n",
    "#################################################\n",
    "\n",
    "#sql = \"SELECT * FROM birth_1 WHERE gender = 'F'\"\n",
    "#df_f = pd.read_sql(sql, con)\n",
    "#df_f['births'] = df_f['births'].astype(int)\n",
    "#df_f.groupby('month').sum().sort_values('births', ascending = False).index.tolist()[0]\n",
    "\n",
    "#plt.bar(df_f.loc[df['month'] == int(df_f.groupby('month').sum().sort_values('births',\n",
    "#        ascending = False).index.tolist()[0])].groupby('day').sum().index,\n",
    "#       df_f.loc[df['month'] == int(df_f.groupby('month').sum().sort_values('births',\n",
    "#        ascending = False).index.tolist()[0])].groupby('day').sum()['births'])\n",
    "#plt.show()\n",
    "\n",
    "#df.to_json(orient='records')"
   ]
  },
  {
   "cell_type": "code",
   "execution_count": 4,
   "metadata": {},
   "outputs": [],
   "source": [
    "cursor.execute('SELECT * FROM births_1802')\n",
    "recset = cursor.fetchall()"
   ]
  },
  {
   "cell_type": "code",
   "execution_count": null,
   "metadata": {},
   "outputs": [],
   "source": []
  }
 ],
 "metadata": {
  "kernelspec": {
   "display_name": "Python 3",
   "language": "python",
   "name": "python3"
  },
  "language_info": {
   "codemirror_mode": {
    "name": "ipython",
    "version": 3
   },
   "file_extension": ".py",
   "mimetype": "text/x-python",
   "name": "python",
   "nbconvert_exporter": "python",
   "pygments_lexer": "ipython3",
   "version": "3.7.4"
  }
 },
 "nbformat": 4,
 "nbformat_minor": 2
}
